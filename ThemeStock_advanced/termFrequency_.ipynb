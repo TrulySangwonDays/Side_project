{
 "cells": [
  {
   "cell_type": "code",
   "execution_count": 75,
   "id": "b316621f",
   "metadata": {},
   "outputs": [],
   "source": [
    "import pandas as pd\n",
    "import numpy as np\n",
    "\n",
    "# 정규식 활용 -> 특수문자 제거\n",
    "import re\n",
    "\n",
    "# 한글 형태소 분석기\n",
    "from konlpy.tag import Okt\n",
    "\n",
    "# 단어 빈도수 세기\n",
    "from collections import Counter"
   ]
  },
  {
   "cell_type": "code",
   "execution_count": 79,
   "id": "b51fddc9",
   "metadata": {},
   "outputs": [],
   "source": [
    "date_str = '20250808'"
   ]
  },
  {
   "cell_type": "code",
   "execution_count": 80,
   "id": "49a2c0db",
   "metadata": {},
   "outputs": [
    {
     "name": "stdout",
     "output_type": "stream",
     "text": [
      "(451, 4)\n",
      "59010 개 단어\n"
     ]
    },
    {
     "data": {
      "application/vnd.microsoft.datawrangler.viewer.v0+json": {
       "columns": [
        {
         "name": "index",
         "rawType": "int64",
         "type": "integer"
        },
        {
         "name": "word",
         "rawType": "object",
         "type": "string"
        },
        {
         "name": "count",
         "rawType": "int64",
         "type": "integer"
        }
       ],
       "ref": "45c785a9-941d-4326-b37e-f443ac8eea3e",
       "rows": [
        [
         "0",
         "미국",
         "290"
        ],
        [
         "1",
         "대통령",
         "242"
        ],
        [
         "2",
         "한국",
         "215"
        ],
        [
         "3",
         "AI",
         "208"
        ],
        [
         "4",
         "관세",
         "156"
        ],
        [
         "5",
         "매출",
         "138"
        ],
        [
         "6",
         "증가",
         "132"
        ],
        [
         "7",
         "기술",
         "126"
        ],
        [
         "8",
         "사업",
         "126"
        ],
        [
         "9",
         "트럼프",
         "119"
        ],
        [
         "10",
         "이익",
         "113"
        ],
        [
         "11",
         "서울",
         "113"
        ],
        [
         "12",
         "실적",
         "110"
        ],
        [
         "13",
         "영업",
         "107"
        ],
        [
         "14",
         "거래",
         "107"
        ],
        [
         "15",
         "중국",
         "106"
        ],
        [
         "16",
         "정부",
         "106"
        ],
        [
         "17",
         "세계",
         "103"
        ],
        [
         "18",
         "증권",
         "100"
        ],
        [
         "19",
         "평가",
         "96"
        ],
        [
         "20",
         "모델",
         "93"
        ],
        [
         "21",
         "설명",
         "92"
        ],
        [
         "22",
         "국내",
         "89"
        ],
        [
         "23",
         "서비스",
         "87"
        ],
        [
         "24",
         "이미지",
         "87"
        ],
        [
         "25",
         "계획",
         "86"
        ],
        [
         "26",
         "글로벌",
         "85"
        ],
        [
         "27",
         "생산",
         "84"
        ],
        [
         "28",
         "지역",
         "83"
        ],
        [
         "29",
         "분석",
         "83"
        ],
        [
         "30",
         "제품",
         "83"
        ],
        [
         "31",
         "지원",
         "81"
        ],
        [
         "32",
         "대상",
         "81"
        ],
        [
         "33",
         "자산",
         "80"
        ],
        [
         "34",
         "개발",
         "80"
        ],
        [
         "35",
         "성장",
         "78"
        ],
        [
         "36",
         "기간",
         "74"
        ],
        [
         "37",
         "국가",
         "73"
        ],
        [
         "38",
         "가능성",
         "73"
        ],
        [
         "39",
         "데이터",
         "73"
        ],
        [
         "40",
         "가격",
         "72"
        ],
        [
         "41",
         "반도체",
         "72"
        ],
        [
         "42",
         "고객",
         "72"
        ],
        [
         "43",
         "주식",
         "72"
        ],
        [
         "44",
         "지수",
         "72"
        ],
        [
         "45",
         "관계자",
         "70"
        ],
        [
         "46",
         "소비",
         "70"
        ],
        [
         "47",
         "개인",
         "70"
        ],
        [
         "48",
         "확대",
         "69"
        ],
        [
         "49",
         "윤",
         "68"
        ]
       ],
       "shape": {
        "columns": 2,
        "rows": 13332
       }
      },
      "text/html": [
       "<div>\n",
       "<style scoped>\n",
       "    .dataframe tbody tr th:only-of-type {\n",
       "        vertical-align: middle;\n",
       "    }\n",
       "\n",
       "    .dataframe tbody tr th {\n",
       "        vertical-align: top;\n",
       "    }\n",
       "\n",
       "    .dataframe thead th {\n",
       "        text-align: right;\n",
       "    }\n",
       "</style>\n",
       "<table border=\"1\" class=\"dataframe\">\n",
       "  <thead>\n",
       "    <tr style=\"text-align: right;\">\n",
       "      <th></th>\n",
       "      <th>word</th>\n",
       "      <th>count</th>\n",
       "    </tr>\n",
       "  </thead>\n",
       "  <tbody>\n",
       "    <tr>\n",
       "      <th>0</th>\n",
       "      <td>미국</td>\n",
       "      <td>290</td>\n",
       "    </tr>\n",
       "    <tr>\n",
       "      <th>1</th>\n",
       "      <td>대통령</td>\n",
       "      <td>242</td>\n",
       "    </tr>\n",
       "    <tr>\n",
       "      <th>2</th>\n",
       "      <td>한국</td>\n",
       "      <td>215</td>\n",
       "    </tr>\n",
       "    <tr>\n",
       "      <th>3</th>\n",
       "      <td>AI</td>\n",
       "      <td>208</td>\n",
       "    </tr>\n",
       "    <tr>\n",
       "      <th>4</th>\n",
       "      <td>관세</td>\n",
       "      <td>156</td>\n",
       "    </tr>\n",
       "    <tr>\n",
       "      <th>...</th>\n",
       "      <td>...</td>\n",
       "      <td>...</td>\n",
       "    </tr>\n",
       "    <tr>\n",
       "      <th>13327</th>\n",
       "      <td>티니</td>\n",
       "      <td>1</td>\n",
       "    </tr>\n",
       "    <tr>\n",
       "      <th>13328</th>\n",
       "      <td>캐치</td>\n",
       "      <td>1</td>\n",
       "    </tr>\n",
       "    <tr>\n",
       "      <th>13329</th>\n",
       "      <td>성탄절</td>\n",
       "      <td>1</td>\n",
       "    </tr>\n",
       "    <tr>\n",
       "      <th>13330</th>\n",
       "      <td>틴업</td>\n",
       "      <td>1</td>\n",
       "    </tr>\n",
       "    <tr>\n",
       "      <th>13331</th>\n",
       "      <td>더해지면서</td>\n",
       "      <td>1</td>\n",
       "    </tr>\n",
       "  </tbody>\n",
       "</table>\n",
       "<p>13332 rows × 2 columns</p>\n",
       "</div>"
      ],
      "text/plain": [
       "        word  count\n",
       "0         미국    290\n",
       "1        대통령    242\n",
       "2         한국    215\n",
       "3         AI    208\n",
       "4         관세    156\n",
       "...      ...    ...\n",
       "13327     티니      1\n",
       "13328     캐치      1\n",
       "13329    성탄절      1\n",
       "13330     틴업      1\n",
       "13331  더해지면서      1\n",
       "\n",
       "[13332 rows x 2 columns]"
      ]
     },
     "execution_count": 80,
     "metadata": {},
     "output_type": "execute_result"
    }
   ],
   "source": [
    "# 파일 불러오기\n",
    "raw_data_gen = pd.read_csv(f\"/Users/leesangwon/Documents/ThemeStock_file/hankyung_general_{date_str}.csv\")\n",
    "raw_data_i = pd.read_csv(f\"/Users/leesangwon/Documents/ThemeStock_file/hankyung_i_{date_str}.csv\")\n",
    "raw_data_g = pd.read_csv(f\"/Users/leesangwon/Documents/ThemeStock_file/hankyung_g_{date_str}.csv\")\n",
    "\n",
    "# 하나의 파일로 유니온\n",
    "raw_data = pd.concat([raw_data_gen, raw_data_i, raw_data_g], ignore_index=True)\n",
    "print(raw_data.shape)\n",
    "\n",
    "# 완전일치 중복기사 제거\n",
    "df = raw_data.drop_duplicates(subset=['title', 'text'], keep='first').copy()\n",
    "\n",
    "# title에 [속보] 또는 [포토] 포함 시 text를 NaN으로 변경\n",
    "df.loc[df['title'].str.contains(r'\\[속보\\]|\\[포토\\]', regex=True), 'text'] = np.nan\n",
    "\n",
    "# null셀을 빈칸으로 만들기\n",
    "df['title'] = df['title'].fillna('')\n",
    "df['text'] = df['text'].fillna('')\n",
    "\n",
    "# 특수문자 등 전처리\n",
    "df['text_clean'] = df['text'].apply(lambda t: re.sub(r'[^가-힣A-Za-z&\\$₩]', ' ', t))\n",
    "df['title_clean'] = df['title'].apply(lambda t: re.sub(r'[^가-힣A-Za-z&\\$₩]', ' ', t))\n",
    "df.head(3)\n",
    "\n",
    "# 뉴스기사들 칼럼(text) 부분 전체 통합\n",
    "text_all = \" \".join(df['text_clean'].dropna().tolist())\n",
    "\n",
    "\n",
    "###########################\n",
    "\n",
    "# 형태소 분석기 생성\n",
    "okt = Okt()\n",
    "\n",
    "# 토큰화 - 명사만\n",
    "tokens = okt.morphs(text_all)\n",
    "tokens\n",
    "\n",
    "# 불용어 불러오기\n",
    "with open(\"/Users/leesangwon/Documents/ThemeStock_file/stopwords_kor.txt\", \"r\", encoding=\"utf-8\") as f:\n",
    "    stopwords = f.read()\n",
    "\n",
    "# 불용어 제거\n",
    "tokens = [word for word in tokens if not word in stopwords]\n",
    "tokens = \" \".join(tokens)\n",
    "\n",
    "# 다시 토큰화\n",
    "cleaned_tokens = okt.morphs(tokens)\n",
    "print(f'{len(cleaned_tokens)} 개 단어')\n",
    "\n",
    "\n",
    "###########################\n",
    "\n",
    "# 1. 빈도 계산\n",
    "word_counts = Counter(cleaned_tokens)\n",
    "\n",
    "# 2. DataFrame 변환\n",
    "df_counts = pd.DataFrame(word_counts.items(), columns=['word', 'count'])\n",
    "\n",
    "# 3. count 기준 내림차순 정렬\n",
    "df_counts = df_counts.sort_values(by='count', ascending=False).reset_index(drop=True)\n",
    "\n",
    "df_counts"
   ]
  },
  {
   "cell_type": "code",
   "execution_count": 81,
   "id": "9c618038",
   "metadata": {},
   "outputs": [],
   "source": [
    "df_counts.to_csv(f\"/Users/leesangwon/Documents/ThemeStock_file/TF_{date_str}.csv\", index=False)"
   ]
  },
  {
   "cell_type": "code",
   "execution_count": null,
   "id": "ce1cb5ad",
   "metadata": {},
   "outputs": [],
   "source": []
  },
  {
   "cell_type": "code",
   "execution_count": null,
   "id": "d0825c69",
   "metadata": {},
   "outputs": [],
   "source": []
  },
  {
   "cell_type": "code",
   "execution_count": null,
   "id": "396044fb",
   "metadata": {},
   "outputs": [],
   "source": []
  },
  {
   "cell_type": "code",
   "execution_count": null,
   "id": "9c5f3f38",
   "metadata": {},
   "outputs": [],
   "source": []
  }
 ],
 "metadata": {
  "kernelspec": {
   "display_name": "base",
   "language": "python",
   "name": "python3"
  },
  "language_info": {
   "codemirror_mode": {
    "name": "ipython",
    "version": 3
   },
   "file_extension": ".py",
   "mimetype": "text/x-python",
   "name": "python",
   "nbconvert_exporter": "python",
   "pygments_lexer": "ipython3",
   "version": "3.12.4"
  }
 },
 "nbformat": 4,
 "nbformat_minor": 5
}
