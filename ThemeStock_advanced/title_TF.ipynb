{
 "cells": [
  {
   "cell_type": "markdown",
   "id": "89eff3ab",
   "metadata": {},
   "source": [
    "# TF"
   ]
  },
  {
   "cell_type": "code",
   "execution_count": 24,
   "id": "b316621f",
   "metadata": {},
   "outputs": [],
   "source": [
    "import pandas as pd\n",
    "import numpy as np\n",
    "\n",
    "from pandas.errors import EmptyDataError\n",
    "\n",
    "# 정규식 활용 -> 특수문자 제거\n",
    "import re\n",
    "\n",
    "# 한글 형태소 분석기\n",
    "from konlpy.tag import Okt\n",
    "okt = Okt()\n",
    "\n",
    "# 단어 빈도수 세기\n",
    "from collections import Counter"
   ]
  },
  {
   "cell_type": "code",
   "execution_count": 25,
   "id": "b51fddc9",
   "metadata": {},
   "outputs": [],
   "source": [
    "date_str = '20250819'"
   ]
  },
  {
   "cell_type": "code",
   "execution_count": null,
   "id": "49a2c0db",
   "metadata": {},
   "outputs": [
    {
     "name": "stdout",
     "output_type": "stream",
     "text": [
      "⚠️ /Users/leesangwon/Documents/ThemeStock_file/Hankyung_news/hankyung_gen_20250819_00000-19999.csv 는 비어있음 → 스킵\n",
      "⚠️ /Users/leesangwon/Documents/ThemeStock_file/Hankyung_news/hankyung_gen_20250819_20000-39999.csv 는 비어있음 → 스킵\n",
      "⚠️ /Users/leesangwon/Documents/ThemeStock_file/Hankyung_news/hankyung_gen_20250819_40000-59999.csv 는 비어있음 → 스킵\n",
      "총 데이터 크기: (619, 4)\n"
     ]
    },
    {
     "data": {
      "application/vnd.microsoft.datawrangler.viewer.v0+json": {
       "columns": [
        {
         "name": "index",
         "rawType": "int64",
         "type": "integer"
        },
        {
         "name": "word",
         "rawType": "object",
         "type": "string"
        },
        {
         "name": "count",
         "rawType": "int64",
         "type": "integer"
        }
       ],
       "ref": "dd73a91f-858b-47bb-a484-8d5c17837544",
       "rows": [
        [
         "0",
         "속보",
         "28"
        ],
        [
         "1",
         "K",
         "16"
        ],
        [
         "2",
         "젤",
         "16"
        ],
        [
         "3",
         "렌스",
         "15"
        ],
        [
         "4",
         "삼성",
         "14"
        ],
        [
         "5",
         "특검",
         "14"
        ],
        [
         "6",
         "한국",
         "13"
        ],
        [
         "7",
         "트럼프",
         "13"
        ],
        [
         "8",
         "AI",
         "12"
        ],
        [
         "9",
         "글로벌",
         "11"
        ],
        [
         "10",
         "정부",
         "11"
        ],
        [
         "11",
         "사고",
         "10"
        ],
        [
         "12",
         "푸틴",
         "10"
        ],
        [
         "13",
         "영상",
         "10"
        ],
        [
         "14",
         "회담",
         "10"
        ],
        [
         "15",
         "대통령",
         "10"
        ],
        [
         "16",
         "출시",
         "8"
        ],
        [
         "17",
         "우려",
         "8"
        ],
        [
         "18",
         "서울",
         "8"
        ],
        [
         "19",
         "사업",
         "8"
        ],
        [
         "20",
         "현대",
         "8"
        ],
        [
         "21",
         "마켓",
         "8"
        ],
        [
         "22",
         "노란",
         "7"
        ],
        [
         "23",
         "대출",
         "7"
        ],
        [
         "24",
         "혐의",
         "7"
        ],
        [
         "25",
         "봉투",
         "7"
        ],
        [
         "26",
         "민주당",
         "7"
        ],
        [
         "27",
         "장관",
         "7"
        ],
        [
         "28",
         "공급",
         "7"
        ],
        [
         "29",
         "주택",
         "7"
        ],
        [
         "30",
         "주식",
         "7"
        ],
        [
         "31",
         "규제",
         "7"
        ],
        [
         "32",
         "단독",
         "7"
        ],
        [
         "33",
         "확대",
         "7"
        ],
        [
         "34",
         "조국",
         "7"
        ],
        [
         "35",
         "건설",
         "7"
        ],
        [
         "36",
         "관세",
         "7"
        ],
        [
         "37",
         "실적",
         "7"
        ],
        [
         "38",
         "조사",
         "6"
        ],
        [
         "39",
         "미래",
         "6"
        ],
        [
         "40",
         "사망",
         "6"
        ],
        [
         "41",
         "하더니",
         "6"
        ],
        [
         "42",
         "재해",
         "6"
        ],
        [
         "43",
         "국회",
         "6"
        ],
        [
         "44",
         "논란",
         "6"
        ],
        [
         "45",
         "포토",
         "6"
        ],
        [
         "46",
         "검토",
         "6"
        ],
        [
         "47",
         "종목",
         "6"
        ],
        [
         "48",
         "계엄",
         "6"
        ],
        [
         "49",
         "PRO",
         "6"
        ]
       ],
       "shape": {
        "columns": 2,
        "rows": 2042
       }
      },
      "text/html": [
       "<div>\n",
       "<style scoped>\n",
       "    .dataframe tbody tr th:only-of-type {\n",
       "        vertical-align: middle;\n",
       "    }\n",
       "\n",
       "    .dataframe tbody tr th {\n",
       "        vertical-align: top;\n",
       "    }\n",
       "\n",
       "    .dataframe thead th {\n",
       "        text-align: right;\n",
       "    }\n",
       "</style>\n",
       "<table border=\"1\" class=\"dataframe\">\n",
       "  <thead>\n",
       "    <tr style=\"text-align: right;\">\n",
       "      <th></th>\n",
       "      <th>word</th>\n",
       "      <th>count</th>\n",
       "    </tr>\n",
       "  </thead>\n",
       "  <tbody>\n",
       "    <tr>\n",
       "      <th>0</th>\n",
       "      <td>속보</td>\n",
       "      <td>28</td>\n",
       "    </tr>\n",
       "    <tr>\n",
       "      <th>1</th>\n",
       "      <td>K</td>\n",
       "      <td>16</td>\n",
       "    </tr>\n",
       "    <tr>\n",
       "      <th>2</th>\n",
       "      <td>젤</td>\n",
       "      <td>16</td>\n",
       "    </tr>\n",
       "    <tr>\n",
       "      <th>3</th>\n",
       "      <td>렌스</td>\n",
       "      <td>15</td>\n",
       "    </tr>\n",
       "    <tr>\n",
       "      <th>4</th>\n",
       "      <td>삼성</td>\n",
       "      <td>14</td>\n",
       "    </tr>\n",
       "    <tr>\n",
       "      <th>...</th>\n",
       "      <td>...</td>\n",
       "      <td>...</td>\n",
       "    </tr>\n",
       "    <tr>\n",
       "      <th>2037</th>\n",
       "      <td>야외</td>\n",
       "      <td>1</td>\n",
       "    </tr>\n",
       "    <tr>\n",
       "      <th>2038</th>\n",
       "      <td>DDP</td>\n",
       "      <td>1</td>\n",
       "    </tr>\n",
       "    <tr>\n",
       "      <th>2039</th>\n",
       "      <td>구름</td>\n",
       "      <td>1</td>\n",
       "    </tr>\n",
       "    <tr>\n",
       "      <th>2040</th>\n",
       "      <td>분홍</td>\n",
       "      <td>1</td>\n",
       "    </tr>\n",
       "    <tr>\n",
       "      <th>2041</th>\n",
       "      <td>선두</td>\n",
       "      <td>1</td>\n",
       "    </tr>\n",
       "  </tbody>\n",
       "</table>\n",
       "<p>2042 rows × 2 columns</p>\n",
       "</div>"
      ],
      "text/plain": [
       "     word  count\n",
       "0      속보     28\n",
       "1       K     16\n",
       "2       젤     16\n",
       "3      렌스     15\n",
       "4      삼성     14\n",
       "...   ...    ...\n",
       "2037   야외      1\n",
       "2038  DDP      1\n",
       "2039   구름      1\n",
       "2040   분홍      1\n",
       "2041   선두      1\n",
       "\n",
       "[2042 rows x 2 columns]"
      ]
     },
     "execution_count": 26,
     "metadata": {},
     "output_type": "execute_result"
    }
   ],
   "source": [
    "def safe_read_csv(path):\n",
    "    try:\n",
    "        return pd.read_csv(path)\n",
    "    except EmptyDataError:\n",
    "        print(f\"⚠️ {path} 는 비어있음 → 스킵\")\n",
    "        return pd.DataFrame()   # 빈 DF 반환\n",
    "    except FileNotFoundError:\n",
    "        print(f\"❌ {path} 파일 없음 → 스킵\")\n",
    "        return pd.DataFrame()\n",
    "\n",
    "# 파일 불러오기\n",
    "raw_data_i = safe_read_csv(f\"/Users/leesangwon/Documents/ThemeStock_file/Hankyung_news/hankyung_i_{date_str}.csv\")\n",
    "raw_data_g = safe_read_csv(f\"/Users/leesangwon/Documents/ThemeStock_file/Hankyung_news/hankyung_g_{date_str}.csv\")\n",
    "raw_data_gen_1 = safe_read_csv(f\"/Users/leesangwon/Documents/ThemeStock_file/Hankyung_news/hankyung_gen_{date_str}_00000-19999.csv\")\n",
    "raw_data_gen_2 = safe_read_csv(f\"/Users/leesangwon/Documents/ThemeStock_file/Hankyung_news/hankyung_gen_{date_str}_20000-39999.csv\")\n",
    "raw_data_gen_3 = safe_read_csv(f\"/Users/leesangwon/Documents/ThemeStock_file/Hankyung_news/hankyung_gen_{date_str}_40000-59999.csv\")\n",
    "raw_data_gen_4 = safe_read_csv(f\"/Users/leesangwon/Documents/ThemeStock_file/Hankyung_news/hankyung_gen_{date_str}_60000-79999.csv\")\n",
    "raw_data_gen_5 = safe_read_csv(f\"/Users/leesangwon/Documents/ThemeStock_file/Hankyung_news/hankyung_gen_{date_str}_80000-99999.csv\")\n",
    "\n",
    "# 하나의 파일로 유니온 (비어있으면 자동 무시)\n",
    "raw_data = pd.concat([\n",
    "    raw_data_gen_1, raw_data_gen_2, raw_data_gen_3,\n",
    "    raw_data_gen_4, raw_data_gen_5,\n",
    "    raw_data_i, raw_data_g\n",
    "], ignore_index=True)\n",
    "\n",
    "print(\"총 데이터 크기:\", raw_data.shape)\n",
    "\n",
    "# 완전일치 중복기사 제거\n",
    "df = raw_data.drop_duplicates(subset=['title', 'text'], keep='first').copy()\n",
    "\n",
    "# title에 [속보] 또는 [포토] 포함 시 text를 NaN으로 변경\n",
    "df.loc[df['title'].str.contains(r'\\[속보\\]|\\[포토\\]', regex=True), 'text'] = np.nan\n",
    "\n",
    "# null셀을 빈칸으로 만들기\n",
    "df['title'] = df['title'].fillna('')\n",
    "df['text'] = df['text'].fillna('')\n",
    "\n",
    "# 특수문자 등 전처리\n",
    "df['text_clean'] = df['text'].apply(lambda t: re.sub(r'[^가-힣A-Za-z&\\$₩]', ' ', t))\n",
    "df['title_clean'] = df['title'].apply(lambda t: re.sub(r'[^가-힣A-Za-z&\\$₩]', ' ', t))\n",
    "df.head(3)\n",
    "\n",
    "\n",
    "###########################\n",
    "\n",
    "\n",
    "# 불용어 불러오기 (줄바꿈 기준 분리)\n",
    "with open(\"/Users/leesangwon/Documents/ThemeStock_file/Hankyung_news/stopwords_kor.txt\", \"r\", encoding=\"utf-8\") as f:\n",
    "    stopwords = f.read()\n",
    "\n",
    "# 불용어 제거 함수\n",
    "def remove_stopwords(text_clean):\n",
    "    if not isinstance(text_clean, str):\n",
    "        return ''\n",
    "    return ' '.join([word for word in text_clean.split() if word not in stopwords])\n",
    "\n",
    "# 조사 제거 함수\n",
    "def remove_josa(text):\n",
    "    if not isinstance(text, str):\n",
    "        return ''\n",
    "    return ' '.join([word for word, pos in okt.pos(text) if pos != 'Josa'])\n",
    "\n",
    "# 조사 제거 → 불용어 제거 순차 적용\n",
    "df['title_clean'] = df['title_clean'].apply(remove_josa)  # 조사 제거\n",
    "df['title_clean'] = df['title_clean'].apply(remove_stopwords)  # 불용어 제거\n",
    "\n",
    "df['text_clean'] = df['text_clean'].apply(remove_josa)  # 조사 제거\n",
    "df['text_clean'] = df['text_clean'].apply(remove_stopwords)  # 불용어 제거\n",
    "\n",
    "\n",
    "\n",
    "# 1. 전체 단어 모으기\n",
    "all_words = []\n",
    "for text in df['title_clean']:\n",
    "    if isinstance(text, str):\n",
    "        all_words.extend(text.split())  # 공백 기준 토큰 분리\n",
    "\n",
    "# 2. 빈도 계산\n",
    "word_counts = Counter(all_words)\n",
    "\n",
    "# 3. DataFrame 변환\n",
    "freq_df = pd.DataFrame(word_counts.items(), columns=['word', 'count'])\n",
    "freq_df = freq_df.sort_values(by='count', ascending=False).reset_index(drop=True)\n",
    "\n",
    "freq_df # 상위 20개 단어"
   ]
  },
  {
   "cell_type": "code",
   "execution_count": 14,
   "id": "9c618038",
   "metadata": {},
   "outputs": [],
   "source": [
    "freq_df.to_csv(f\"/Users/leesangwon/Documents/ThemeStock_file/title_TF_{date_str}.csv\", index=False)"
   ]
  },
  {
   "cell_type": "code",
   "execution_count": null,
   "id": "3f6ff206",
   "metadata": {},
   "outputs": [],
   "source": []
  }
 ],
 "metadata": {
  "kernelspec": {
   "display_name": "base",
   "language": "python",
   "name": "python3"
  },
  "language_info": {
   "codemirror_mode": {
    "name": "ipython",
    "version": 3
   },
   "file_extension": ".py",
   "mimetype": "text/x-python",
   "name": "python",
   "nbconvert_exporter": "python",
   "pygments_lexer": "ipython3",
   "version": "3.12.4"
  }
 },
 "nbformat": 4,
 "nbformat_minor": 5
}
