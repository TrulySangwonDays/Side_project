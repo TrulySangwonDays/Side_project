{
 "cells": [
  {
   "cell_type": "markdown",
   "id": "89eff3ab",
   "metadata": {},
   "source": [
    "# TF"
   ]
  },
  {
   "cell_type": "code",
   "execution_count": 10,
   "id": "b316621f",
   "metadata": {},
   "outputs": [],
   "source": [
    "import pandas as pd\n",
    "import numpy as np\n",
    "\n",
    "from pandas.errors import EmptyDataError\n",
    "\n",
    "# 정규식 활용 -> 특수문자 제거\n",
    "import re\n",
    "\n",
    "# 한글 형태소 분석기\n",
    "from konlpy.tag import Okt\n",
    "okt = Okt()\n",
    "\n",
    "# 단어 빈도수 세기\n",
    "from collections import Counter"
   ]
  },
  {
   "cell_type": "code",
   "execution_count": 11,
   "id": "b51fddc9",
   "metadata": {},
   "outputs": [],
   "source": [
    "date_str = '20250822'"
   ]
  },
  {
   "cell_type": "code",
   "execution_count": 12,
   "id": "49a2c0db",
   "metadata": {},
   "outputs": [
    {
     "name": "stdout",
     "output_type": "stream",
     "text": [
      "⚠️ /Users/leesangwon/Documents/ThemeStock_file/Hankyung_news/hankyung_gen_20250822_00000-19999.csv 는 비어있음 → 스킵\n",
      "⚠️ /Users/leesangwon/Documents/ThemeStock_file/Hankyung_news/hankyung_gen_20250822_20000-39999.csv 는 비어있음 → 스킵\n",
      "⚠️ /Users/leesangwon/Documents/ThemeStock_file/Hankyung_news/hankyung_gen_20250822_40000-59999.csv 는 비어있음 → 스킵\n",
      "⚠️ /Users/leesangwon/Documents/ThemeStock_file/Hankyung_news/hankyung_gen_20250822_80000-99999.csv 는 비어있음 → 스킵\n",
      "총 데이터 크기: (245, 4)\n"
     ]
    },
    {
     "data": {
      "application/vnd.microsoft.datawrangler.viewer.v0+json": {
       "columns": [
        {
         "name": "index",
         "rawType": "int64",
         "type": "integer"
        },
        {
         "name": "word",
         "rawType": "object",
         "type": "string"
        },
        {
         "name": "count",
         "rawType": "int64",
         "type": "integer"
        }
       ],
       "ref": "029d2c5c-c100-4a88-bf7a-678d3e64e31d",
       "rows": [
        [
         "0",
         "대통령실",
         "18"
        ],
        [
         "1",
         "AI",
         "13"
        ],
        [
         "2",
         "책",
         "12"
        ],
        [
         "3",
         "정상회담",
         "9"
        ],
        [
         "4",
         "한미",
         "9"
        ],
        [
         "5",
         "안보",
         "8"
        ],
        [
         "6",
         "마을",
         "8"
        ],
        [
         "7",
         "기술",
         "8"
        ],
        [
         "8",
         "대통령",
         "7"
        ],
        [
         "9",
         "협력",
         "7"
        ],
        [
         "10",
         "실장",
         "6"
        ],
        [
         "11",
         "대화",
         "6"
        ],
        [
         "12",
         "정부",
         "6"
        ],
        [
         "13",
         "삶",
         "5"
        ],
        [
         "14",
         "새",
         "5"
        ],
        [
         "15",
         "포토",
         "5"
        ],
        [
         "16",
         "최대",
         "5"
        ],
        [
         "17",
         "전환",
         "5"
        ],
        [
         "18",
         "트럼프",
         "5"
        ],
        [
         "19",
         "미국",
         "5"
        ],
        [
         "20",
         "주목",
         "5"
        ],
        [
         "21",
         "논의",
         "4"
        ],
        [
         "22",
         "내년",
         "4"
        ],
        [
         "23",
         "범",
         "4"
        ],
        [
         "24",
         "국민",
         "4"
        ],
        [
         "25",
         "GS",
         "4"
        ],
        [
         "26",
         "성장",
         "4"
        ],
        [
         "27",
         "불법",
         "4"
        ],
        [
         "28",
         "&",
         "4"
        ],
        [
         "29",
         "서울",
         "4"
        ],
        [
         "30",
         "목표",
         "4"
        ],
        [
         "31",
         "D",
         "4"
        ],
        [
         "32",
         "회담",
         "3"
        ],
        [
         "33",
         "글로벌",
         "3"
        ],
        [
         "34",
         "문제",
         "3"
        ],
        [
         "35",
         "개척",
         "3"
        ],
        [
         "36",
         "동맹",
         "3"
        ],
        [
         "37",
         "과제",
         "3"
        ],
        [
         "38",
         "통상",
         "3"
        ],
        [
         "39",
         "과거",
         "3"
        ],
        [
         "40",
         "한국",
         "3"
        ],
        [
         "41",
         "관세",
         "3"
        ],
        [
         "42",
         "협상",
         "3"
        ],
        [
         "43",
         "검거",
         "3"
        ],
        [
         "44",
         "출시",
         "3"
        ],
        [
         "45",
         "결선",
         "3"
        ],
        [
         "46",
         "국힘",
         "3"
        ],
        [
         "47",
         "사설",
         "3"
        ],
        [
         "48",
         "특검",
         "3"
        ],
        [
         "49",
         "안전",
         "3"
        ]
       ],
       "shape": {
        "columns": 2,
        "rows": 1033
       }
      },
      "text/html": [
       "<div>\n",
       "<style scoped>\n",
       "    .dataframe tbody tr th:only-of-type {\n",
       "        vertical-align: middle;\n",
       "    }\n",
       "\n",
       "    .dataframe tbody tr th {\n",
       "        vertical-align: top;\n",
       "    }\n",
       "\n",
       "    .dataframe thead th {\n",
       "        text-align: right;\n",
       "    }\n",
       "</style>\n",
       "<table border=\"1\" class=\"dataframe\">\n",
       "  <thead>\n",
       "    <tr style=\"text-align: right;\">\n",
       "      <th></th>\n",
       "      <th>word</th>\n",
       "      <th>count</th>\n",
       "    </tr>\n",
       "  </thead>\n",
       "  <tbody>\n",
       "    <tr>\n",
       "      <th>0</th>\n",
       "      <td>대통령실</td>\n",
       "      <td>18</td>\n",
       "    </tr>\n",
       "    <tr>\n",
       "      <th>1</th>\n",
       "      <td>AI</td>\n",
       "      <td>13</td>\n",
       "    </tr>\n",
       "    <tr>\n",
       "      <th>2</th>\n",
       "      <td>책</td>\n",
       "      <td>12</td>\n",
       "    </tr>\n",
       "    <tr>\n",
       "      <th>3</th>\n",
       "      <td>정상회담</td>\n",
       "      <td>9</td>\n",
       "    </tr>\n",
       "    <tr>\n",
       "      <th>4</th>\n",
       "      <td>한미</td>\n",
       "      <td>9</td>\n",
       "    </tr>\n",
       "    <tr>\n",
       "      <th>...</th>\n",
       "      <td>...</td>\n",
       "      <td>...</td>\n",
       "    </tr>\n",
       "    <tr>\n",
       "      <th>1028</th>\n",
       "      <td>약세</td>\n",
       "      <td>1</td>\n",
       "    </tr>\n",
       "    <tr>\n",
       "      <th>1029</th>\n",
       "      <td>흔들</td>\n",
       "      <td>1</td>\n",
       "    </tr>\n",
       "    <tr>\n",
       "      <th>1030</th>\n",
       "      <td>연고</td>\n",
       "      <td>1</td>\n",
       "    </tr>\n",
       "    <tr>\n",
       "      <th>1031</th>\n",
       "      <td>피</td>\n",
       "      <td>1</td>\n",
       "    </tr>\n",
       "    <tr>\n",
       "      <th>1032</th>\n",
       "      <td>변제</td>\n",
       "      <td>1</td>\n",
       "    </tr>\n",
       "  </tbody>\n",
       "</table>\n",
       "<p>1033 rows × 2 columns</p>\n",
       "</div>"
      ],
      "text/plain": [
       "      word  count\n",
       "0     대통령실     18\n",
       "1       AI     13\n",
       "2        책     12\n",
       "3     정상회담      9\n",
       "4       한미      9\n",
       "...    ...    ...\n",
       "1028    약세      1\n",
       "1029    흔들      1\n",
       "1030    연고      1\n",
       "1031     피      1\n",
       "1032    변제      1\n",
       "\n",
       "[1033 rows x 2 columns]"
      ]
     },
     "execution_count": 12,
     "metadata": {},
     "output_type": "execute_result"
    }
   ],
   "source": [
    "def safe_read_csv(path):\n",
    "    try:\n",
    "        return pd.read_csv(path)\n",
    "    except EmptyDataError:\n",
    "        print(f\"⚠️ {path} 는 비어있음 → 스킵\")\n",
    "        return pd.DataFrame()   # 빈 DF 반환\n",
    "    except FileNotFoundError:\n",
    "        print(f\"❌ {path} 파일 없음 → 스킵\")\n",
    "        return pd.DataFrame()\n",
    "\n",
    "# 파일 불러오기\n",
    "raw_data_i = safe_read_csv(f\"/Users/leesangwon/Documents/ThemeStock_file/Hankyung_news/hankyung_i_{date_str}.csv\")\n",
    "raw_data_g = safe_read_csv(f\"/Users/leesangwon/Documents/ThemeStock_file/Hankyung_news/hankyung_g_{date_str}.csv\")\n",
    "raw_data_gen_1 = safe_read_csv(f\"/Users/leesangwon/Documents/ThemeStock_file/Hankyung_news/hankyung_gen_{date_str}_00000-19999.csv\")\n",
    "raw_data_gen_2 = safe_read_csv(f\"/Users/leesangwon/Documents/ThemeStock_file/Hankyung_news/hankyung_gen_{date_str}_20000-39999.csv\")\n",
    "raw_data_gen_3 = safe_read_csv(f\"/Users/leesangwon/Documents/ThemeStock_file/Hankyung_news/hankyung_gen_{date_str}_40000-59999.csv\")\n",
    "raw_data_gen_4 = safe_read_csv(f\"/Users/leesangwon/Documents/ThemeStock_file/Hankyung_news/hankyung_gen_{date_str}_60000-79999.csv\")\n",
    "raw_data_gen_5 = safe_read_csv(f\"/Users/leesangwon/Documents/ThemeStock_file/Hankyung_news/hankyung_gen_{date_str}_80000-99999.csv\")\n",
    "\n",
    "# 하나의 파일로 유니온 (비어있으면 자동 무시)\n",
    "raw_data = pd.concat([\n",
    "    raw_data_gen_1, raw_data_gen_2, raw_data_gen_3,\n",
    "    raw_data_gen_4, raw_data_gen_5,\n",
    "    raw_data_i, raw_data_g\n",
    "], ignore_index=True)\n",
    "\n",
    "print(\"총 데이터 크기:\", raw_data.shape)\n",
    "\n",
    "# 완전일치 중복기사 제거\n",
    "df = raw_data.drop_duplicates(subset=['title', 'text'], keep='first').copy()\n",
    "\n",
    "# title에 [속보] 또는 [포토] 포함 시 text를 NaN으로 변경\n",
    "df.loc[df['title'].str.contains(r'\\[속보\\]|\\[포토\\]', regex=True), 'text'] = np.nan\n",
    "\n",
    "# null셀을 빈칸으로 만들기\n",
    "df['title'] = df['title'].fillna('')\n",
    "df['text'] = df['text'].fillna('')\n",
    "\n",
    "# 특수문자 등 전처리\n",
    "df['text_clean'] = df['text'].apply(lambda t: re.sub(r'[^가-힣A-Za-z&\\$₩]', ' ', t))\n",
    "df['title_clean'] = df['title'].apply(lambda t: re.sub(r'[^가-힣A-Za-z&\\$₩]', ' ', t))\n",
    "df.head(3)\n",
    "\n",
    "\n",
    "###########################\n",
    "\n",
    "\n",
    "# 불용어 불러오기 (줄바꿈 기준 분리)\n",
    "with open(\"/Users/leesangwon/Documents/ThemeStock_file/Hankyung_news/stopwords_kor.txt\", \"r\", encoding=\"utf-8\") as f:\n",
    "    stopwords = f.read()\n",
    "\n",
    "# 불용어 제거 함수\n",
    "def remove_stopwords(text_clean):\n",
    "    if not isinstance(text_clean, str):\n",
    "        return ''\n",
    "    return ' '.join([word for word in text_clean.split() if word not in stopwords])\n",
    "\n",
    "# 조사 제거 함수\n",
    "def remove_josa(text):\n",
    "    if not isinstance(text, str):\n",
    "        return ''\n",
    "    return ' '.join([word for word, pos in okt.pos(text) if pos != 'Josa'])\n",
    "\n",
    "# 조사 제거 → 불용어 제거 순차 적용\n",
    "df['title_clean'] = df['title_clean'].apply(remove_josa)  # 조사 제거\n",
    "df['title_clean'] = df['title_clean'].apply(remove_stopwords)  # 불용어 제거\n",
    "\n",
    "df['text_clean'] = df['text_clean'].apply(remove_josa)  # 조사 제거\n",
    "df['text_clean'] = df['text_clean'].apply(remove_stopwords)  # 불용어 제거\n",
    "\n",
    "\n",
    "\n",
    "# 1. 전체 단어 모으기\n",
    "all_words = []\n",
    "for text in df['title_clean']:\n",
    "    if isinstance(text, str):\n",
    "        all_words.extend(text.split())  # 공백 기준 토큰 분리\n",
    "\n",
    "# 2. 빈도 계산\n",
    "word_counts = Counter(all_words)\n",
    "\n",
    "# 3. DataFrame 변환\n",
    "freq_df = pd.DataFrame(word_counts.items(), columns=['word', 'count'])\n",
    "freq_df = freq_df.sort_values(by='count', ascending=False).reset_index(drop=True)\n",
    "\n",
    "freq_df # 상위 20개 단어"
   ]
  },
  {
   "cell_type": "code",
   "execution_count": 13,
   "id": "9c618038",
   "metadata": {},
   "outputs": [],
   "source": [
    "freq_df.to_csv(f\"/Users/leesangwon/Documents/ThemeStock_file/Hankyung_news/title_TF.csv\", index=False)"
   ]
  },
  {
   "cell_type": "code",
   "execution_count": null,
   "id": "3f6ff206",
   "metadata": {},
   "outputs": [],
   "source": []
  }
 ],
 "metadata": {
  "kernelspec": {
   "display_name": "base",
   "language": "python",
   "name": "python3"
  },
  "language_info": {
   "codemirror_mode": {
    "name": "ipython",
    "version": 3
   },
   "file_extension": ".py",
   "mimetype": "text/x-python",
   "name": "python",
   "nbconvert_exporter": "python",
   "pygments_lexer": "ipython3",
   "version": "3.12.4"
  }
 },
 "nbformat": 4,
 "nbformat_minor": 5
}
