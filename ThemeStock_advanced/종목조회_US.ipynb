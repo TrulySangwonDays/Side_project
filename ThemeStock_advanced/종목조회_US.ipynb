{
 "cells": [
  {
   "cell_type": "code",
   "execution_count": 2,
   "id": "1f44f502",
   "metadata": {},
   "outputs": [],
   "source": [
    "import pandas as pd\n",
    "import yfinance as yf"
   ]
  },
  {
   "cell_type": "markdown",
   "id": "f822c893",
   "metadata": {},
   "source": [
    "# S&P500 종목 티커, 섹터/산업 정보"
   ]
  },
  {
   "cell_type": "code",
   "execution_count": 3,
   "id": "f11c99d4",
   "metadata": {},
   "outputs": [
    {
     "data": {
      "application/vnd.microsoft.datawrangler.viewer.v0+json": {
       "columns": [
        {
         "name": "index",
         "rawType": "int64",
         "type": "integer"
        },
        {
         "name": "티커",
         "rawType": "object",
         "type": "string"
        },
        {
         "name": "종목명",
         "rawType": "object",
         "type": "string"
        },
        {
         "name": "섹터",
         "rawType": "object",
         "type": "string"
        },
        {
         "name": "세부산업군",
         "rawType": "object",
         "type": "string"
        }
       ],
       "ref": "ca8c4fef-6755-4c17-afbc-a2d92d1e711a",
       "rows": [
        [
         "0",
         "MMM",
         "3M",
         "Industrials",
         "Industrial Conglomerates"
        ],
        [
         "1",
         "AOS",
         "A. O. Smith",
         "Industrials",
         "Building Products"
        ],
        [
         "2",
         "ABT",
         "Abbott Laboratories",
         "Health Care",
         "Health Care Equipment"
        ],
        [
         "3",
         "ABBV",
         "AbbVie",
         "Health Care",
         "Biotechnology"
        ],
        [
         "4",
         "ACN",
         "Accenture",
         "Information Technology",
         "IT Consulting & Other Services"
        ]
       ],
       "shape": {
        "columns": 4,
        "rows": 5
       }
      },
      "text/html": [
       "<div>\n",
       "<style scoped>\n",
       "    .dataframe tbody tr th:only-of-type {\n",
       "        vertical-align: middle;\n",
       "    }\n",
       "\n",
       "    .dataframe tbody tr th {\n",
       "        vertical-align: top;\n",
       "    }\n",
       "\n",
       "    .dataframe thead th {\n",
       "        text-align: right;\n",
       "    }\n",
       "</style>\n",
       "<table border=\"1\" class=\"dataframe\">\n",
       "  <thead>\n",
       "    <tr style=\"text-align: right;\">\n",
       "      <th></th>\n",
       "      <th>티커</th>\n",
       "      <th>종목명</th>\n",
       "      <th>섹터</th>\n",
       "      <th>세부산업군</th>\n",
       "    </tr>\n",
       "  </thead>\n",
       "  <tbody>\n",
       "    <tr>\n",
       "      <th>0</th>\n",
       "      <td>MMM</td>\n",
       "      <td>3M</td>\n",
       "      <td>Industrials</td>\n",
       "      <td>Industrial Conglomerates</td>\n",
       "    </tr>\n",
       "    <tr>\n",
       "      <th>1</th>\n",
       "      <td>AOS</td>\n",
       "      <td>A. O. Smith</td>\n",
       "      <td>Industrials</td>\n",
       "      <td>Building Products</td>\n",
       "    </tr>\n",
       "    <tr>\n",
       "      <th>2</th>\n",
       "      <td>ABT</td>\n",
       "      <td>Abbott Laboratories</td>\n",
       "      <td>Health Care</td>\n",
       "      <td>Health Care Equipment</td>\n",
       "    </tr>\n",
       "    <tr>\n",
       "      <th>3</th>\n",
       "      <td>ABBV</td>\n",
       "      <td>AbbVie</td>\n",
       "      <td>Health Care</td>\n",
       "      <td>Biotechnology</td>\n",
       "    </tr>\n",
       "    <tr>\n",
       "      <th>4</th>\n",
       "      <td>ACN</td>\n",
       "      <td>Accenture</td>\n",
       "      <td>Information Technology</td>\n",
       "      <td>IT Consulting &amp; Other Services</td>\n",
       "    </tr>\n",
       "  </tbody>\n",
       "</table>\n",
       "</div>"
      ],
      "text/plain": [
       "     티커                  종목명                      섹터  \\\n",
       "0   MMM                   3M             Industrials   \n",
       "1   AOS          A. O. Smith             Industrials   \n",
       "2   ABT  Abbott Laboratories             Health Care   \n",
       "3  ABBV               AbbVie             Health Care   \n",
       "4   ACN            Accenture  Information Technology   \n",
       "\n",
       "                            세부산업군  \n",
       "0        Industrial Conglomerates  \n",
       "1               Building Products  \n",
       "2           Health Care Equipment  \n",
       "3                   Biotechnology  \n",
       "4  IT Consulting & Other Services  "
      ]
     },
     "execution_count": 3,
     "metadata": {},
     "output_type": "execute_result"
    }
   ],
   "source": [
    "# 위키피디아 S&P500 종목 리스트\n",
    "url = 'https://en.wikipedia.org/wiki/List_of_S%26P_500_companies'\n",
    "tables = pd.read_html(url)\n",
    "\n",
    "# 첫 번째 테이블이 S&P500 종목\n",
    "sp500_table = tables[0]\n",
    "\n",
    "# 필요한 칼럼만 추출 (Symbol, Security, GICS Sector, GICS Sub-Industry)\n",
    "df = sp500_table[['Symbol', 'Security', 'GICS Sector', 'GICS Sub-Industry']]\n",
    "\n",
    "# 칼럼명 변경\n",
    "df_sp500 = df.rename(columns={\n",
    "    \"Symbol\": \"티커\",\n",
    "    \"Security\": \"종목명\",\n",
    "    \"GICS Sector\": \"섹터\",\n",
    "    \"GICS Sub-Industry\": \"세부산업군\"\n",
    "})\n",
    "\n",
    "df_sp500.to_csv(f\"/Users/leesangwon/Documents/ThemeStock_file/US_data/sp500_sector.csv\", index=False)\n",
    "df_sp500.head()"
   ]
  },
  {
   "cell_type": "code",
   "execution_count": null,
   "id": "afe04b2f",
   "metadata": {},
   "outputs": [],
   "source": []
  },
  {
   "cell_type": "code",
   "execution_count": null,
   "id": "5901b08c",
   "metadata": {},
   "outputs": [],
   "source": []
  },
  {
   "cell_type": "code",
   "execution_count": 24,
   "id": "9dc021f6",
   "metadata": {},
   "outputs": [
    {
     "name": "stderr",
     "output_type": "stream",
     "text": [
      "$AAPL: possibly delisted; no price data found  (period=1mo)\n"
     ]
    },
    {
     "name": "stdout",
     "output_type": "stream",
     "text": [
      "Empty DataFrame\n",
      "Columns: [Open, High, Low, Close, Adj Close, Volume]\n",
      "Index: []\n"
     ]
    }
   ],
   "source": [
    "from curl_cffi import requests\n",
    "import yfinance as yf\n",
    "\n",
    "# 브라우저(TLS) 환경을 흉내내는 세션 생성\n",
    "session = requests.Session(impersonate=\"chrome\")\n",
    "\n",
    "# 세션을 yfinance 객체에 직접 주입\n",
    "ticker = yf.Ticker(\"AAPL\", session=session)\n",
    "data = ticker.history(period=\"1mo\")\n",
    "\n",
    "print(data)"
   ]
  },
  {
   "cell_type": "code",
   "execution_count": 25,
   "id": "08375227",
   "metadata": {},
   "outputs": [
    {
     "name": "stderr",
     "output_type": "stream",
     "text": [
      "[*********************100%***********************]  3 of 3 completed\n",
      "\n",
      "3 Failed downloads:\n",
      "['AAPL', 'MSFT', 'TSLA']: JSONDecodeError('Expecting value: line 1 column 1 (char 0)')\n"
     ]
    },
    {
     "name": "stdout",
     "output_type": "stream",
     "text": [
      "Empty DataFrame\n",
      "Columns: [(Adj Close, AAPL), (Adj Close, MSFT), (Adj Close, TSLA), (Close, AAPL), (Close, MSFT), (Close, TSLA), (High, AAPL), (High, MSFT), (High, TSLA), (Low, AAPL), (Low, MSFT), (Low, TSLA), (Open, AAPL), (Open, MSFT), (Open, TSLA), (Volume, AAPL), (Volume, MSFT), (Volume, TSLA)]\n",
      "Index: []\n"
     ]
    }
   ],
   "source": [
    "data = yf.download(\"MSFT AAPL TSLA\", session=session, period=\"1mo\")\n",
    "print(data.head())"
   ]
  },
  {
   "cell_type": "code",
   "execution_count": null,
   "id": "d8952798",
   "metadata": {},
   "outputs": [],
   "source": []
  },
  {
   "cell_type": "code",
   "execution_count": 26,
   "id": "7a06d927",
   "metadata": {},
   "outputs": [
    {
     "name": "stderr",
     "output_type": "stream",
     "text": [
      "\n",
      "1 Failed download:\n",
      "['AAPL']: JSONDecodeError('Expecting value: line 1 column 1 (char 0)')\n",
      "\n",
      "1 Failed download:\n",
      "['AAPL']: JSONDecodeError('Expecting value: line 1 column 1 (char 0)')\n",
      "\n",
      "1 Failed download:\n",
      "['AAPL']: JSONDecodeError('Expecting value: line 1 column 1 (char 0)')\n"
     ]
    },
    {
     "name": "stdout",
     "output_type": "stream",
     "text": [
      "Empty DataFrame\n",
      "Columns: [Open, High, Low, Close, Adj Close, Volume]\n",
      "Index: []\n"
     ]
    }
   ],
   "source": [
    "from curl_cffi import requests as crequests\n",
    "import yfinance as yf\n",
    "import time\n",
    "\n",
    "# 1) Chrome으로 위장한 세션\n",
    "session = crequests.Session(impersonate=\"chrome\")  # 또는 \"chrome110\", \"chrome120\" 등\n",
    "\n",
    "# 2) 간단 테스트: 최근 5일 일봉\n",
    "for attempt in range(3):\n",
    "    try:\n",
    "        df = yf.download(\"AAPL\", period=\"5d\", interval=\"1d\",\n",
    "                         session=session, progress=False)\n",
    "        if not df.empty:\n",
    "            break\n",
    "    except Exception as e:\n",
    "        print(f\"retry {attempt+1}: {e}\")\n",
    "        time.sleep(2*(attempt+1))\n",
    "\n",
    "print(df.tail())"
   ]
  },
  {
   "cell_type": "code",
   "execution_count": null,
   "id": "cf9d8272",
   "metadata": {},
   "outputs": [],
   "source": []
  },
  {
   "cell_type": "code",
   "execution_count": null,
   "id": "78d200c7",
   "metadata": {},
   "outputs": [],
   "source": []
  },
  {
   "cell_type": "code",
   "execution_count": null,
   "id": "bf47945d",
   "metadata": {},
   "outputs": [],
   "source": []
  },
  {
   "cell_type": "code",
   "execution_count": null,
   "id": "18e0a261",
   "metadata": {},
   "outputs": [],
   "source": []
  },
  {
   "cell_type": "code",
   "execution_count": null,
   "id": "ff3e10db",
   "metadata": {},
   "outputs": [],
   "source": []
  },
  {
   "cell_type": "code",
   "execution_count": null,
   "id": "d4fa219c",
   "metadata": {},
   "outputs": [],
   "source": []
  }
 ],
 "metadata": {
  "kernelspec": {
   "display_name": "base",
   "language": "python",
   "name": "python3"
  },
  "language_info": {
   "codemirror_mode": {
    "name": "ipython",
    "version": 3
   },
   "file_extension": ".py",
   "mimetype": "text/x-python",
   "name": "python",
   "nbconvert_exporter": "python",
   "pygments_lexer": "ipython3",
   "version": "3.12.4"
  }
 },
 "nbformat": 4,
 "nbformat_minor": 5
}
