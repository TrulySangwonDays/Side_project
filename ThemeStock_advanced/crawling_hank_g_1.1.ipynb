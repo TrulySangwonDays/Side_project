{
 "cells": [
  {
   "cell_type": "code",
   "execution_count": null,
   "id": "6ca96cc4",
   "metadata": {},
   "outputs": [],
   "source": [
    "import requests, pandas as pd, time\n",
    "from newspaper import Article\n",
    "from concurrent.futures import ThreadPoolExecutor, as_completed\n",
    "from tqdm import tqdm\n",
    "\n",
    "BASE_URL = \"https://www.hankyung.com/article/\"\n",
    "HEADERS = {\n",
    "    \"User-Agent\": (\"Mozilla/5.0 (Macintosh; Intel Mac OS X 10_15_7) \"\n",
    "                   \"AppleWebKit/537.36 (KHTML, like Gecko) \"\n",
    "                   \"Chrome/127.0.0.0 Safari/537.36\"),\n",
    "    \"Accept-Language\": \"ko-KR,ko;q=0.9,en-US;q=0.8\",\n",
    "    \"Referer\": \"https://www.hankyung.com/\",\n",
    "}\n",
    "\n",
    "def crawl_url(url):\n",
    "    # 단일 URL 크롤링: requests로 가져와 newspaper 파싱 (403시 /amp 폴백)\n",
    "    try:\n",
    "        r = requests.get(url, headers=HEADERS, timeout=12)\n",
    "        if r.status_code == 403:\n",
    "            r = requests.get(url.rstrip(\"/\") + \"/amp\", headers=HEADERS, timeout=12)\n",
    "        if r.status_code in (403, 404):\n",
    "            return None\n",
    "        r.raise_for_status()\n",
    "\n",
    "        art = Article(url, language='ko')\n",
    "        art.set_html(r.text)\n",
    "        art.parse()\n",
    "        if not art.title or not art.text:\n",
    "            return None\n",
    "        return {\"url\": url, \"title\": art.title, \"text\": art.text, \"publish_date\": art.publish_date}\n",
    "    except:\n",
    "        return None\n",
    "\n",
    "def crawl_g_articles(date_str, max_workers=31):\n",
    "    \"\"\"g 기사 크롤링 (0000~9999)\"\"\"\n",
    "    urls = [f\"{BASE_URL}{date_str}{num:04}g\" for num in range(10000)]\n",
    "    results = []\n",
    "\n",
    "    with ThreadPoolExecutor(max_workers=max_workers) as ex:\n",
    "        futures = [ex.submit(crawl_url, u) for u in urls]\n",
    "        collected = 0\n",
    "        with tqdm(total=len(futures), desc=f\"g {date_str}\") as pbar:\n",
    "            for fut in as_completed(futures):\n",
    "                res = fut.result()\n",
    "                if res:\n",
    "                    results.append(res)\n",
    "                    collected += 1\n",
    "                pbar.set_postfix_str(f\"수집 {collected}\") # 현재 수집 건수\n",
    "                pbar.update(1)\n",
    "\n",
    "                time.sleep(0.06)  # 너무 빠른 요청 방지(차단 완화)\n",
    "\n",
    "    df = pd.DataFrame(results).drop_duplicates(subset=[\"url\"])\n",
    "    tqdm.write(f\"최종 수집 기사 수: {len(df)}\") # 최종 수집 건 수\n",
    "    return df"
   ]
  },
  {
   "cell_type": "code",
   "execution_count": 2,
   "id": "43cd847e",
   "metadata": {},
   "outputs": [],
   "source": [
    "day_str = \"20250819\""
   ]
  },
  {
   "cell_type": "code",
   "execution_count": null,
   "id": "89364955",
   "metadata": {},
   "outputs": [],
   "source": [
    "out_df = crawl_g_articles(day_str)\n",
    "out_df.to_csv(f\"/Users/leesangwon/Documents/ThemeStock_file/Hankyung_news/hankyung_g_{day_str}.csv\", index=False)\n",
    "\n",
    "out_df"
   ]
  }
 ],
 "metadata": {
  "kernelspec": {
   "display_name": "base",
   "language": "python",
   "name": "python3"
  },
  "language_info": {
   "codemirror_mode": {
    "name": "ipython",
    "version": 3
   },
   "file_extension": ".py",
   "mimetype": "text/x-python",
   "name": "python",
   "nbconvert_exporter": "python",
   "pygments_lexer": "ipython3",
   "version": "3.12.4"
  }
 },
 "nbformat": 4,
 "nbformat_minor": 5
}
