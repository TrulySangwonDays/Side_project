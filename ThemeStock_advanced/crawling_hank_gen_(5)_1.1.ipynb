{
 "cells": [
  {
   "cell_type": "code",
   "execution_count": 3,
   "id": "6ca96cc4",
   "metadata": {},
   "outputs": [],
   "source": [
    "import requests, pandas as pd, time\n",
    "from newspaper import Article\n",
    "from concurrent.futures import ThreadPoolExecutor, as_completed, ProcessPoolExecutor\n",
    "from tqdm import tqdm\n",
    "\n",
    "BASE_URL = \"https://www.hankyung.com/article/\"\n",
    "HEADERS = {\n",
    "    \"User-Agent\": (\"Mozilla/5.0 (Macintosh; Intel Mac OS X 10_15_7) \"\n",
    "                   \"AppleWebKit/537.36 (KHTML, like Gecko) \"\n",
    "                   \"Chrome/127.0.0.0 Safari/537.36\"),\n",
    "    \"Accept-Language\": \"ko-KR,ko;q=0.9,en-US;q=0.8\",\n",
    "    \"Referer\": \"https://www.hankyung.com/\",\n",
    "}\n",
    "\n",
    "def crawl_url(url):\n",
    "    \"\"\"단일 URL 크롤링: AMP 먼저 요청, 없으면 일반 페이지 시도\"\"\"\n",
    "    try:\n",
    "        # 1. AMP 페이지 먼저 시도\n",
    "        amp = url.rstrip(\"/\") + \"/amp\"\n",
    "        r = requests.get(amp, headers=HEADERS, timeout=12)\n",
    "\n",
    "        # 2. AMP 없으면 일반 페이지 시도\n",
    "        if r.status_code == 404:\n",
    "            r = requests.get(url, headers=HEADERS, timeout=12)\n",
    "\n",
    "        # 3. 여전히 에러면 None\n",
    "        if r.status_code in (403, 404):\n",
    "            return None\n",
    "        r.raise_for_status()\n",
    "\n",
    "        # 4. newspaper3k 파싱\n",
    "        art = Article(url, language='ko')\n",
    "        art.set_html(r.text)\n",
    "        art.parse()\n",
    "        if not art.title or not art.text:\n",
    "            return None\n",
    "\n",
    "        return {\n",
    "            \"url\": url,\n",
    "            \"title\": art.title,\n",
    "            \"text\": art.text,\n",
    "            \"publish_date\": art.publish_date\n",
    "        }\n",
    "    except Exception:\n",
    "        return None\n",
    "\n",
    "def crawl_gen_articles_range(date_str, start_id, end_id, *,  # end_id는 '미포함' (파이썬 range 규칙)\n",
    "                             max_workers=36, batch_size=1000, sleep_between=0.05,\n",
    "                             save_path=None):\n",
    "    \"\"\"\n",
    "    일반 기사 크롤링: [start_id, end_id) 구간만\n",
    "      - AMP만 요청\n",
    "      - 배치 제출\n",
    "    \"\"\"\n",
    "    results, collected = [], 0\n",
    "    total = end_id - start_id\n",
    "\n",
    "    with ThreadPoolExecutor(max_workers=max_workers) as ex:\n",
    "        with tqdm(total=total, desc=f\"{date_str} [{start_id:05}-{end_id-1:05}]\") as pbar:\n",
    "            for start in range(start_id, end_id, batch_size):\n",
    "                end = min(start + batch_size, end_id)\n",
    "                urls = [f\"{BASE_URL}{date_str}{num:05}\" for num in range(start, end)]\n",
    "                futures = [ex.submit(crawl_url, u) for u in urls]\n",
    "\n",
    "                for fut in as_completed(futures):\n",
    "                    res = fut.result()\n",
    "                    if res:\n",
    "                        results.append(res)\n",
    "                        collected += 1\n",
    "                    pbar.set_postfix_str(f\"수집 {collected}\")\n",
    "                    pbar.update(1)\n",
    "                    time.sleep(sleep_between)\n",
    "\n",
    "    df = pd.DataFrame(results).drop_duplicates(subset=[\"url\"])\n",
    "    if save_path:\n",
    "        df.to_csv(save_path, index=False)\n",
    "    tqdm.write(f\"[{start_id:05}-{end_id-1:05}] 최종 수집: {len(df)}\")\n",
    "    return df"
   ]
  },
  {
   "cell_type": "code",
   "execution_count": 4,
   "id": "270221c4",
   "metadata": {},
   "outputs": [
    {
     "name": "stderr",
     "output_type": "stream",
     "text": [
      "20250822 [80000-99999]: 100%|██████████| 20000/20000 [18:21<00:00, 18.16it/s, 수집 0]"
     ]
    },
    {
     "name": "stdout",
     "output_type": "stream",
     "text": [
      "[80000-99999] 최종 수집: 0\n"
     ]
    },
    {
     "name": "stderr",
     "output_type": "stream",
     "text": [
      "\n"
     ]
    },
    {
     "data": {
      "application/vnd.microsoft.datawrangler.viewer.v0+json": {
       "columns": [
        {
         "name": "index",
         "rawType": "int64",
         "type": "integer"
        }
       ],
       "ref": "f38fa802-4e11-47ff-9ca4-88ae82d59612",
       "rows": [],
       "shape": {
        "columns": 0,
        "rows": 0
       }
      },
      "text/html": [
       "<div>\n",
       "<style scoped>\n",
       "    .dataframe tbody tr th:only-of-type {\n",
       "        vertical-align: middle;\n",
       "    }\n",
       "\n",
       "    .dataframe tbody tr th {\n",
       "        vertical-align: top;\n",
       "    }\n",
       "\n",
       "    .dataframe thead th {\n",
       "        text-align: right;\n",
       "    }\n",
       "</style>\n",
       "<table border=\"1\" class=\"dataframe\">\n",
       "  <thead>\n",
       "    <tr style=\"text-align: right;\">\n",
       "      <th></th>\n",
       "    </tr>\n",
       "  </thead>\n",
       "  <tbody>\n",
       "  </tbody>\n",
       "</table>\n",
       "</div>"
      ],
      "text/plain": [
       "Empty DataFrame\n",
       "Columns: []\n",
       "Index: []"
      ]
     },
     "execution_count": 4,
     "metadata": {},
     "output_type": "execute_result"
    }
   ],
   "source": [
    "day_str = \"20250822\"\n",
    "start_id, end_id = 80000, 100000   # 이 부분만 각 노트북에서 바꿔서 실행\n",
    "out_path = f\"/Users/leesangwon/Documents/ThemeStock_file/Hankyung_news/hankyung_gen_{day_str}_{start_id:05}-{end_id-1:05}.csv\"\n",
    "\n",
    "df_part = crawl_gen_articles_range(\n",
    "    day_str, start_id, end_id,\n",
    "    max_workers=36, batch_size=1000, sleep_between=0.05,\n",
    "    save_path=out_path\n",
    ")\n",
    "\n",
    "df_part"
   ]
  },
  {
   "cell_type": "code",
   "execution_count": null,
   "id": "89364955",
   "metadata": {},
   "outputs": [],
   "source": []
  }
 ],
 "metadata": {
  "kernelspec": {
   "display_name": "base",
   "language": "python",
   "name": "python3"
  },
  "language_info": {
   "codemirror_mode": {
    "name": "ipython",
    "version": 3
   },
   "file_extension": ".py",
   "mimetype": "text/x-python",
   "name": "python",
   "nbconvert_exporter": "python",
   "pygments_lexer": "ipython3",
   "version": "3.12.4"
  }
 },
 "nbformat": 4,
 "nbformat_minor": 5
}
